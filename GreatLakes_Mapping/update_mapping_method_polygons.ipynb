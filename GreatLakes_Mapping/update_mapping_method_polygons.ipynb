{
 "cells": [
  {
   "cell_type": "code",
   "execution_count": 1,
   "metadata": {
    "collapsed": true
   },
   "outputs": [],
   "source": [
    "# -*- coding: utf-8 -*-"
   ]
  },
  {
   "cell_type": "code",
   "execution_count": 3,
   "metadata": {
    "collapsed": true
   },
   "outputs": [],
   "source": [
    "import sys  "
   ]
  },
  {
   "cell_type": "code",
   "execution_count": 4,
   "metadata": {
    "collapsed": false
   },
   "outputs": [
    {
     "data": {
      "text/plain": [
       "'ascii'"
      ]
     },
     "execution_count": 4,
     "metadata": {},
     "output_type": "execute_result"
    }
   ],
   "source": [
    "sys.getdefaultencoding()"
   ]
  },
  {
   "cell_type": "code",
   "execution_count": 5,
   "metadata": {
    "collapsed": true
   },
   "outputs": [],
   "source": [
    "reload(sys)  \n",
    "sys.setdefaultencoding('utf8')"
   ]
  },
  {
   "cell_type": "code",
   "execution_count": 6,
   "metadata": {
    "collapsed": false
   },
   "outputs": [
    {
     "data": {
      "text/plain": [
       "'utf8'"
      ]
     },
     "execution_count": 6,
     "metadata": {},
     "output_type": "execute_result"
    }
   ],
   "source": [
    "sys.getdefaultencoding()"
   ]
  },
  {
   "cell_type": "code",
   "execution_count": 7,
   "metadata": {
    "collapsed": true
   },
   "outputs": [],
   "source": [
    "# Import modules\n",
    "import archook\n",
    "archook.get_arcpy()\n",
    "import arcpy\n",
    "import os\n",
    "from dataIO import dbf2df, df2dbf\n",
    "import pandas as pd\n",
    "pd.set_option('display.max_columns', None)"
   ]
  },
  {
   "cell_type": "code",
   "execution_count": 8,
   "metadata": {
    "collapsed": true
   },
   "outputs": [],
   "source": [
    "# Set working environment\n",
    "WORKING_DIR = \"P:/02/NY/Cayuga_Co_36011C/STUDY__TO90/TECHNICAL/ENG_FLOOD_HAZ_DEV/COASTAL/MAPPING\"\n",
    "arcpy.env.workspace = WORKING_DIR"
   ]
  },
  {
   "cell_type": "code",
   "execution_count": 9,
   "metadata": {
    "collapsed": true
   },
   "outputs": [],
   "source": [
    "INPUT_FEATURES = \"Cayuga_NY_Mapping_Method_JOINv2\"\n",
    "INPUT_FILE = os.path.join(WORKING_DIR, INPUT_FEATURES)"
   ]
  },
  {
   "cell_type": "code",
   "execution_count": 10,
   "metadata": {
    "collapsed": true
   },
   "outputs": [],
   "source": [
    "mdf = dbf2df(INPUT_FILE+\".dbf\")"
   ]
  },
  {
   "cell_type": "code",
   "execution_count": 11,
   "metadata": {
    "collapsed": false
   },
   "outputs": [],
   "source": [
    "mdf['WHAFIS_ZON'] = mdf['WHAFIS_ZON'].str.strip().str.upper()"
   ]
  },
  {
   "cell_type": "code",
   "execution_count": 12,
   "metadata": {
    "collapsed": false
   },
   "outputs": [
    {
     "data": {
      "text/html": [
       "<div>\n",
       "<table border=\"1\" class=\"dataframe\">\n",
       "  <thead>\n",
       "    <tr style=\"text-align: right;\">\n",
       "      <th></th>\n",
       "      <th>100Bry_Def</th>\n",
       "      <th>100Bry_ele</th>\n",
       "      <th>GF_2PERCEN</th>\n",
       "      <th>GF_EROSION</th>\n",
       "      <th>HYDROID</th>\n",
       "      <th>HYDROID_1</th>\n",
       "      <th>HYDRO_ID</th>\n",
       "      <th>H_BORROWED</th>\n",
       "      <th>Highest_WH</th>\n",
       "      <th>Id</th>\n",
       "      <th>LIMWA_Def</th>\n",
       "      <th>LIMWA_ELEV</th>\n",
       "      <th>LIMWA_STAT</th>\n",
       "      <th>LIMWA_SWEL</th>\n",
       "      <th>LIMWA_ele</th>\n",
       "      <th>MAP_1stBFE</th>\n",
       "      <th>MAP_1stZON</th>\n",
       "      <th>Map_1stSOU</th>\n",
       "      <th>Notes</th>\n",
       "      <th>OVERTOPPED</th>\n",
       "      <th>Q</th>\n",
       "      <th>TRANSECT</th>\n",
       "      <th>VAGut_Def</th>\n",
       "      <th>VAGut_ele</th>\n",
       "      <th>VA_ELEV</th>\n",
       "      <th>VA_STAT</th>\n",
       "      <th>VA_SWEL</th>\n",
       "      <th>WHAFIS_SWE</th>\n",
       "      <th>WHAFIS_WAV</th>\n",
       "      <th>WHAFIS_ZON</th>\n",
       "    </tr>\n",
       "  </thead>\n",
       "  <tbody>\n",
       "    <tr>\n",
       "      <th>0</th>\n",
       "      <td>Eroded transect</td>\n",
       "      <td>0.0</td>\n",
       "      <td>255.214895</td>\n",
       "      <td>YES</td>\n",
       "      <td>20</td>\n",
       "      <td>20.0</td>\n",
       "      <td>20</td>\n",
       "      <td>NO</td>\n",
       "      <td>251.37</td>\n",
       "      <td>1000</td>\n",
       "      <td></td>\n",
       "      <td>246.54</td>\n",
       "      <td>26.64</td>\n",
       "      <td>250.2</td>\n",
       "      <td>0.0</td>\n",
       "      <td>255.15</td>\n",
       "      <td>VE</td>\n",
       "      <td>Runup</td>\n",
       "      <td>Overtopping structure method used.</td>\n",
       "      <td>YES</td>\n",
       "      <td>0.003059</td>\n",
       "      <td>20</td>\n",
       "      <td>Eroded and Runup dominated</td>\n",
       "      <td>0.0</td>\n",
       "      <td>244.56</td>\n",
       "      <td>12.44</td>\n",
       "      <td>250.59</td>\n",
       "      <td>251.37</td>\n",
       "      <td>4.11</td>\n",
       "      <td>VE</td>\n",
       "    </tr>\n",
       "  </tbody>\n",
       "</table>\n",
       "</div>"
      ],
      "text/plain": [
       "        100Bry_Def  100Bry_ele  GF_2PERCEN GF_EROSION HYDROID  HYDROID_1  \\\n",
       "0  Eroded transect         0.0  255.214895        YES      20       20.0   \n",
       "\n",
       "   HYDRO_ID H_BORROWED  Highest_WH    Id LIMWA_Def  LIMWA_ELEV  LIMWA_STAT  \\\n",
       "0        20         NO      251.37  1000                246.54       26.64   \n",
       "\n",
       "   LIMWA_SWEL  LIMWA_ele  MAP_1stBFE MAP_1stZON Map_1stSOU  \\\n",
       "0       250.2        0.0      255.15         VE      Runup   \n",
       "\n",
       "                                Notes OVERTOPPED         Q  TRANSECT  \\\n",
       "0  Overtopping structure method used.        YES  0.003059        20   \n",
       "\n",
       "                    VAGut_Def  VAGut_ele  VA_ELEV  VA_STAT  VA_SWEL  \\\n",
       "0  Eroded and Runup dominated        0.0   244.56    12.44   250.59   \n",
       "\n",
       "   WHAFIS_SWE  WHAFIS_WAV WHAFIS_ZON  \n",
       "0      251.37        4.11         VE  "
      ]
     },
     "execution_count": 12,
     "metadata": {},
     "output_type": "execute_result"
    }
   ],
   "source": [
    "mdf.head(1)"
   ]
  },
  {
   "cell_type": "code",
   "execution_count": 13,
   "metadata": {
    "collapsed": false
   },
   "outputs": [],
   "source": [
    "# Update 'Highest_WH'\n",
    "# Input this field with the highest wave crest in Scenario4’s WHAFIS output\n",
    "mdf.loc[:, 'Highest_WH'] = mdf.loc[:, 'WHAFIS_SWE'].round(1)\n",
    "\n",
    "# Round 'GF_2PERCEN' values to tenths of a foot\n",
    "mdf.loc[:, 'GF_2PERCEN'] = mdf.loc[:, 'GF_2PERCEN'].round(1)\n",
    "\n",
    "# Update 'MAP_1stBFE' and 'MAP_1stSOU'\n",
    "# Compare the final runup and Highest_WH, input the higher value.\n",
    "# Input the source of MAP_1stBFE (WHAFIS or RUNUP)\n",
    "for i in range(len(mdf['MAP_1stBFE'])):\n",
    "    water_levels = {mdf.loc[i, 'GF_2PERCEN']:'RUNUP',\n",
    "                    mdf.loc[i, 'Highest_WH']:'WHAFIS'}\n",
    "    if max(water_levels) == 0:\n",
    "        mdf.loc[i, 'MAP_1stBFE'] = 0\n",
    "        mdf.loc[i, 'Map_1stSOU'] = ''\n",
    "    elif min(water_levels) == max(water_levels):\n",
    "        mdf.loc[i, 'MAP_1stBFE'] = min(water_levels)\n",
    "        mdf.loc[i, 'Map_1stSOU'] = 'WHAFIS'\n",
    "    else:\n",
    "        mdf.loc[i, 'MAP_1stBFE'] = max(water_levels)\n",
    "        mdf.loc[i, 'Map_1stSOU'] = water_levels[mdf.loc[i, 'MAP_1stBFE']]\n",
    "\n",
    "# Update 'MAP_1stZON'\n",
    "for i in range(len(mdf['MAP_1stZON'])):\n",
    "    if mdf['WHAFIS_ZON'][i] == 'VE': #If WHAFIS’s first zone is VE, \n",
    "        mdf.loc[i, 'MAP_1stZON'] = 'VE' #input “VE”. \n",
    "    elif mdf['WHAFIS_ZON'][i] == 'AE': # If WHAFIS’s first zone is AE\n",
    "        if mdf['Map_1stSOU'][i] == 'WHAFIS': # and WHAFIS dominates\n",
    "            mdf.loc[i, 'MAP_1stZON'] = 'AE' # input “AE”.  \n",
    "        elif mdf['Map_1stSOU'][i] == 'RUNUP': # If WHAFIS’s first zone is AE but runup dominates, \n",
    "            if mdf['WHAFIS_WAV'][i] > 3: #check if the controlling wave height is more than 3ft,\n",
    "                mdf.loc[i, 'MAP_1stZON'] = 'VE' # input 'VE'\n",
    "            elif mdf['WHAFIS_WAV'][i] <= 3: # if not, \n",
    "                mdf.loc[i, 'MAP_1stZON'] = 'AE' # input “AE”.  \n",
    "    else:\n",
    "        mdf.loc[i, 'MAP_1stZON'] = ''\n",
    "\n",
    "# Update 'LIMWA_ele' and 'LIMWA_Def'\n",
    "# field is input with the water elevation at the 1st 1.5 wave point.\n",
    "for i in range(len(mdf['LIMWA_ele'])):\n",
    "    if mdf['MAP_1stZON'][i] == 'VE' and mdf['Map_1stSOU'][i] == 'WHAFIS': # If WHAFIS’s first zone is VE and no runup is mapped.\n",
    "        mdf.loc[i, 'LIMWA_ele'] = mdf['LIMWA_SWEL'][i] #input with the water elevation at the 1st 1.5 wave point\n",
    "        mdf.loc[i, 'LIMWA_Def'] = 'LiMWA needs to be mapped, VE and runup dominated'\n",
    "    elif mdf['MAP_1stZON'][i] == 'AE' and mdf['WHAFIS_WAV'][i] >= 3: #If WHAFIS’s first zone is AE, but controlling wave height is more than 3ft,\n",
    "        mdf.loc[i, 'LIMWA_ele'] = mdf.loc[i, 'LIMWA_SWEL'] #it might be ok to map LiMWA\n",
    "        mdf.loc[i, 'LIMWA_Def'] = 'LiMWA may be mapped, zone AE but WHAFIS_WAV >= 3ft' #based on engineering judgment.\n",
    "    else: # . If transect is eroded or VA gutter station is based on overtopping result or WHAFIS’s first zone is AE, \n",
    "        mdf.loc[i, 'LIMWA_ele'] = -999 # leave this field 0. \n",
    "        mdf.loc[i, 'LIMWA_Def'] = 'Do not map LiMWA'\n",
    "\n",
    "#### Pick up here ###\n",
    "\n",
    "# Update 'VAGut_ele' and 'VAGut_Def'\n",
    "for i in range(len(mdf['VAGut_ele'])):\n",
    "    if mdf['MAP_1stZON'][i] == 'VE': # Input this value when MAP_1stZON is VE. \n",
    "        if mdf['Map_1stSOU'][i] == 'WHAFIS': #When WHAFIS dominates,\n",
    "            mdf.loc[i, 'VAGut_ele'] = mdf['VA_ELEV'][i] # put the terrain elevation at the first AE station of WHAFIS output. \n",
    "        elif mdf['Map_1stSOU'][i] == 'RUNUP': #When runup dominates, \n",
    "            mdf.loc[i, 'VAGut_ele'] = mdf['GF_2PERCEN'][i]-3 #put (final runup-3ft). \n",
    "        if mdf['GF_EROSION'][i] == 'YES': #When a transect is eroded\n",
    "            if mdf['Map_1stSOU'][i] == 'RUNUP': # and runup dominates\n",
    "                mdf.loc[i, 'VAGut_ele'] = 0 #leave this field 0\n",
    "                mdf.loc[i, 'VAGut_Def'] = 'Do not map VA gutter' # and note the station of VA gutter in VAGut_Def.\n",
    "\n",
    "    if mdf['Q'][i] > 1: # When overtopping rate Q>1\n",
    "        mdf.loc[i, 'VAGut_ele'] = 0 #leave this field 0 \n",
    "        mdf.loc[i, 'VAGut_Def'] = '30ft behind crest' #VA gutter should be mapped at 30ft behind crest \n",
    "        mdf.loc[i, '100Bry_Def'] = \"AO zone extent station\" #and describe AO zone extent station in 100Bry_Def\n",
    "    elif mdf['Q'][i] <= 1 and mdf['Q'][i] >= 0: #When overtopping rates Q is between 0-1\n",
    "        mdf.loc[i, 'VAGut_ele'] = mdf['GF_2PERCEN'][i]-3 #put VA gutter at (final runup-3ft) \n",
    "        mdf.loc[i, 'VAGut_Def'] = '\"Runup\" – 3' #\n",
    "        mdf.loc[i, '100Bry_Def'] = \"AO zone extent station\" #and describe AO zone extent station in 100Bry_Def.\n",
    "    else:\n",
    "        mdf.loc[i, 'Q'] = -999\n",
    "\n",
    "# Update '100Bry_ele' and '100Bry_Def'\n",
    "# Input this field with the water elevation at 100yr boundary\n",
    "for i in range(len(mdf['100Bry_ele'])):\n",
    "    if mdf['GF_EROSION'][i] == 'NO': # at non-eroded transects. \n",
    "        if mdf['Map_1stSOU'][i] == 'RUNUP': #If runup dominates at 100yr boundary,\n",
    "            mdf.loc[i, '100Bry_ele'] = -999 #this value is the final runup (after plateau method and 3ft above crest capping rule).\n",
    "            mdf.loc[i, '100Bry_Def'] = 'value is the final runup (after plateau method and 3ft above crest capping rule'\n",
    "    else: #If 100yr boundary is mapped to 100yr SWEL or transect is eroded or if there is no 100yr boundary needed, leave this field 0.\n",
    "        mdf.loc[i, '100Bry_ele'] = 0"
   ]
  },
  {
   "cell_type": "code",
   "execution_count": 14,
   "metadata": {
    "collapsed": false
   },
   "outputs": [],
   "source": [
    "mdf.drop(mdf.columns[[4, 5]], axis=1, inplace=True)"
   ]
  },
  {
   "cell_type": "code",
   "execution_count": 15,
   "metadata": {
    "collapsed": false
   },
   "outputs": [
    {
     "data": {
      "text/plain": [
       "28"
      ]
     },
     "execution_count": 15,
     "metadata": {},
     "output_type": "execute_result"
    }
   ],
   "source": [
    "len(mdf.columns.tolist())"
   ]
  },
  {
   "cell_type": "code",
   "execution_count": 16,
   "metadata": {
    "collapsed": false
   },
   "outputs": [
    {
     "data": {
      "text/plain": [
       "0       0.0\n",
       "1       0.0\n",
       "2       0.0\n",
       "3       0.0\n",
       "4       0.0\n",
       "5       0.0\n",
       "6       0.0\n",
       "7       0.0\n",
       "8       0.0\n",
       "9    -999.0\n",
       "10   -999.0\n",
       "11      0.0\n",
       "12    249.5\n",
       "13   -999.0\n",
       "14      0.0\n",
       "15      0.0\n",
       "16   -999.0\n",
       "17      0.0\n",
       "18   -999.0\n",
       "19      0.0\n",
       "20      0.0\n",
       "21      0.0\n",
       "22      0.0\n",
       "23      0.0\n",
       "24      0.0\n",
       "25      0.0\n",
       "26      0.0\n",
       "27      0.0\n",
       "28      0.0\n",
       "29      0.0\n",
       "Name: 100Bry_ele, dtype: float64"
      ]
     },
     "execution_count": 16,
     "metadata": {},
     "output_type": "execute_result"
    }
   ],
   "source": [
    "mdf['100Bry_ele']"
   ]
  },
  {
   "cell_type": "code",
   "execution_count": 17,
   "metadata": {
    "collapsed": true
   },
   "outputs": [],
   "source": [
    "OUTSPECS = [('C', 200, 0), ('N', 8, 2), ('N', 8, 2),\n",
    "            ('C', 9, 0), ('N', 8, 0), ('C', 9, 0),\n",
    "            ('N', 8, 2), ('N', 8, 0), ('C', 200, 0),\n",
    "            ('N', 8, 2), ('N', 8, 2), ('N', 8, 2),\n",
    "            ('N', 8, 2), ('N', 8, 2), ('C', 9, 0),\n",
    "            ('C', 9, 0), ('C', 200, 0), ('C', 9, 0),\n",
    "            ('N', 20, 15), ('N', 8, 0), ('C', 200, 0),\n",
    "            ('N', 8, 2), ('N', 8, 2), ('N', 8, 2),\n",
    "            ('N', 8, 2), ('N', 8, 2), ('N', 8, 2),\n",
    "            ('C', 9, 0)]"
   ]
  },
  {
   "cell_type": "code",
   "execution_count": 18,
   "metadata": {
    "collapsed": false
   },
   "outputs": [
    {
     "data": {
      "text/plain": [
       "'P:/02/NY/Cayuga_Co_36011C/STUDY__TO90/TECHNICAL/ENG_FLOOD_HAZ_DEV/COASTAL/MAPPING\\\\Cayuga_NY_Mapping_Method_JOINv2_updated.dbf'"
      ]
     },
     "execution_count": 18,
     "metadata": {},
     "output_type": "execute_result"
    }
   ],
   "source": [
    "df2dbf(mdf, INPUT_FILE+\"_updated.dbf\", my_specs=OUTSPECS)"
   ]
  },
  {
   "cell_type": "code",
   "execution_count": null,
   "metadata": {
    "collapsed": true
   },
   "outputs": [],
   "source": []
  }
 ],
 "metadata": {
  "anaconda-cloud": {},
  "kernelspec": {
   "display_name": "Python [conda env:py27]",
   "language": "python",
   "name": "conda-env-py27-py"
  },
  "language_info": {
   "codemirror_mode": {
    "name": "ipython",
    "version": 2
   },
   "file_extension": ".py",
   "mimetype": "text/x-python",
   "name": "python",
   "nbconvert_exporter": "python",
   "pygments_lexer": "ipython2",
   "version": "2.7.12"
  }
 },
 "nbformat": 4,
 "nbformat_minor": 0
}
